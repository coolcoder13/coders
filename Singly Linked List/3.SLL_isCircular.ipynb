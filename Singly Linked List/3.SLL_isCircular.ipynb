{
 "cells": [
  {
   "cell_type": "markdown",
   "metadata": {},
   "source": [
    "## Singly Linked List  making it Circular"
   ]
  },
  {
   "cell_type": "markdown",
   "metadata": {},
   "source": [
    "## and then checking it is circular or not"
   ]
  },
  {
   "attachments": {
    "c.png": {
     "image/png": "[encoded data removed]"
    }
   },
   "cell_type": "markdown",
   "metadata": {},
   "source": [
    "![c.png](attachment:c.png)"
   ]
  },
  {
   "cell_type": "code",
   "execution_count": 1,
   "metadata": {},
   "outputs": [],
   "source": [
    "# creating node by Node class\n",
    "class Node:\n",
    "    def __init__(self,data):\n",
    "        self.data=data\n",
    "        self.next=None\n",
    "        "
   ]
  },
  {
   "cell_type": "code",
   "execution_count": 2,
   "metadata": {},
   "outputs": [],
   "source": [
    "#Single Linked list class\n",
    "class LinkedList:\n",
    "    def __init__(self):\n",
    "        self.head=None\n",
    "\n",
    "    # append at the end of the list\n",
    "    def insert(self,new_node):\n",
    "        if self.head is None:\n",
    "            self.head=new_node\n",
    "            return\n",
    "        curr_node=self.head\n",
    "        while curr_node.next is not None:\n",
    "            curr_node=curr_node.next\n",
    "        curr_node.next=new_node\n",
    "    \n",
    "    # printing of SLL\n",
    "    def display_circular(self):\n",
    "        t=self.head\n",
    "        p=self.head\n",
    "        while t.next!=p:\n",
    "            print(t.data,end=' ')\n",
    "            t=t.next\n",
    "        print(t.data)\n",
    "    \n",
    "    def display_non_circular(self):\n",
    "        t=self.head\n",
    "        while t:\n",
    "            print(t.data,end=' ')\n",
    "            t=t.next\n",
    "        print()\n",
    "        \n",
    "        \n",
    "        \n",
    "    #making a loop\n",
    "    def createloop(self,n):\n",
    "        if n==0:\n",
    "            return None\n",
    "        \n",
    "        t=self.head\n",
    "        p=self.head\n",
    "        c=1\n",
    "        while c!=n:\n",
    "            p=p.next\n",
    "            c+=1\n",
    "        while t.next:\n",
    "            t=t.next\n",
    "        t.next=p\n"
   ]
  },
  {
   "cell_type": "code",
   "execution_count": 3,
   "metadata": {},
   "outputs": [],
   "source": [
    "def isCircular(head):\n",
    "    # Code here\n",
    "    t=head\n",
    "    while True:\n",
    "        if t.next==None:\n",
    "            return 0\n",
    "        elif t.next==head:\n",
    "            return 1\n",
    "        t=t.next"
   ]
  },
  {
   "cell_type": "code",
   "execution_count": 4,
   "metadata": {},
   "outputs": [
    {
     "name": "stdout",
     "output_type": "stream",
     "text": [
      "First Linked List: \n",
      "16 25 34 43 52 61\n",
      "First Linked List is circular\n",
      "\n",
      "Second Linked List: \n",
      "16 25 34 43 52 61 \n",
      "Second Linked List is not circular\n"
     ]
    }
   ],
   "source": [
    "\n",
    "if __name__ == '__main__':\n",
    "    \n",
    "    a=LinkedList()\n",
    "    nodes=[16,25,34,43,52,61]    #list containing nodes\n",
    "    isloop=1                     # 1 means it is a cicular SLL\n",
    "    \n",
    "    for x in nodes:   \n",
    "        # create a new node\n",
    "        node=Node(x)\n",
    "        a.insert(node)\n",
    "        \n",
    "    if isloop:\n",
    "        a.createloop(1)\n",
    "        \n",
    "    print('First Linked List: ')\n",
    "    a.display_circular()\n",
    "    if isCircular(a.head):\n",
    "        print('First Linked List is circular')\n",
    "    else:\n",
    "        print('Second Linked List is not circular')\n",
    "        \n",
    "    \n",
    "        \n",
    "    b=LinkedList()\n",
    "    nodes=[16,25,34,43,52,61]    #list containing nodes\n",
    "    isloop=0                     # 0 means it is not a cicular SLL\n",
    "    \n",
    "    for x in nodes:   \n",
    "        # create a new node\n",
    "        node=Node(x)\n",
    "        b.insert(node)\n",
    "        \n",
    "    if isloop:\n",
    "        b.createloop(1)\n",
    "    \n",
    "    \n",
    "    print('\\nSecond Linked List: ')\n",
    "    b.display_non_circular()\n",
    "    if isCircular(b.head):\n",
    "        print('First Linked List is circular')\n",
    "    else:\n",
    "        print('Second Linked List is not circular')"
   ]
  },
  {
   "cell_type": "code",
   "execution_count": null,
   "metadata": {},
   "outputs": [],
   "source": []
  }
 ],
 "metadata": {
  "kernelspec": {
   "display_name": "Python 3",
   "language": "python",
   "name": "python3"
  },
  "language_info": {
   "codemirror_mode": {
    "name": "ipython",
    "version": 3
   },
   "file_extension": ".py",
   "mimetype": "text/x-python",
   "name": "python",
   "nbconvert_exporter": "python",
   "pygments_lexer": "ipython3",
   "version": "3.7.0"
  }
 },
 "nbformat": 4,
 "nbformat_minor": 2
}
