{
 "cells": [
  {
   "cell_type": "markdown",
   "metadata": {},
   "source": [
    "##  **No.of nodes in Singly Linked List**"
   ]
  },
  {
   "attachments": {
    "a.jpg": {
     "image/jpeg": "https://www.google.com/url?sa=i&url=https%3A%2F%2Fwww.slideshare.net%2Falhazmy13%2Fpart7-linked-lists&psig=AOvVaw1nsilbCBJKj1oMkLAHl3R2&ust=1599236233858000&source=images&cd=vfe&ved=0CAIQjRxqFwoTCKDmz6-xzesCFQAAAAAdAAAAABAD"
    }
   },
   "cell_type": "markdown",
   "metadata": {},
   "source": [
    "![a.jpg](attachment:a.jpg)"
   ]
  },
  {
   "cell_type": "code",
   "execution_count": 7,
   "metadata": {},
   "outputs": [],
   "source": [
    "# creating node by Node class\n",
    "\n",
    "class Node:\n",
    "    def __init__(self,data):\n",
    "        self.data=data\n",
    "        self.next=None\n",
    "\n",
    "        \n",
    "#Single Linked list class\n",
    "\n",
    "class LinkedList:\n",
    "    def __init__(self):\n",
    "        self.head=None\n",
    "\n",
    "        \n",
    "    # append at the end of the list\n",
    "    def insert(self,new_node):\n",
    "        if self.head is None:\n",
    "            self.head=new_node\n",
    "            return\n",
    "        curr_node=self.head\n",
    "        while curr_node.next is not None:\n",
    "            curr_node=curr_node.next\n",
    "        curr_node.next=new_node\n",
    "    \n",
    "    \n",
    "    # function to count no of nodes in SLL\n",
    "    def Count(self):\n",
    "\n",
    "        t=self.head\n",
    "        count=0\n",
    "        while t:\n",
    "            count+=1\n",
    "            t=t.next\n",
    "        return count\n"
   ]
  },
  {
   "cell_type": "code",
   "execution_count": 8,
   "metadata": {},
   "outputs": [
    {
     "name": "stdout",
     "output_type": "stream",
     "text": [
      "number of nodes in SLL is : 6\n"
     ]
    }
   ],
   "source": [
    "# main() function to work\n",
    "if __name__ == '__main__':\n",
    "    n=6\n",
    "    a=LinkedList()\n",
    "    nodes=[16,25,34,43,52,61] #list containing nodes\n",
    "    \n",
    "    for x in nodes:\n",
    "        \n",
    "        # create a new node\n",
    "        node=Node(x)\n",
    "        a.insert(node)\n",
    "        \n",
    "    print(\"number of nodes in SLL is : %d\"%(a.Count()))"
   ]
  },
  {
   "cell_type": "code",
   "execution_count": null,
   "metadata": {},
   "outputs": [],
   "source": []
  }
 ],
 "metadata": {
  "kernelspec": {
   "display_name": "Python 3",
   "language": "python",
   "name": "python3"
  },
  "language_info": {
   "codemirror_mode": {
    "name": "ipython",
    "version": 3
   },
   "file_extension": ".py",
   "mimetype": "text/x-python",
   "name": "python",
   "nbconvert_exporter": "python",
   "pygments_lexer": "ipython3",
   "version": "3.7.0"
  }
 },
 "nbformat": 4,
 "nbformat_minor": 2
}
