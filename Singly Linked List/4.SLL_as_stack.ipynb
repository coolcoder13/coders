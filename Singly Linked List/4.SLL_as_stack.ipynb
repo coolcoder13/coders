{
 "cells": [
  {
   "cell_type": "markdown",
   "metadata": {},
   "source": [
    "## Singly Linked List as Stack"
   ]
  },
  {
   "attachments": {
    "d.png": {
     "image/png": "[encoded data removed]"
    }
   },
   "cell_type": "markdown",
   "metadata": {},
   "source": [
    "![d.png](attachment:d.png)"
   ]
  },
  {
   "cell_type": "code",
   "execution_count": 1,
   "metadata": {},
   "outputs": [],
   "source": [
    "class Node:\n",
    "    def __init__(self, data):\n",
    "        self.data = data\n",
    "        self.next = None\n"
   ]
  },
  {
   "cell_type": "code",
   "execution_count": 2,
   "metadata": {},
   "outputs": [],
   "source": [
    "class Stack:\n",
    "    \n",
    "    def __init__(self):\n",
    "        self.head=None\n",
    "        \n",
    "    # The method push to push element into stack    \n",
    "    def push(self, data):\n",
    "        ins = Node(data)\n",
    "        \n",
    "        if self.head is None:\n",
    "            self.head=ins\n",
    "            ins.next=None\n",
    "            return\n",
    "        \n",
    "        ins.next=self.head\n",
    "        self.head=ins\n",
    "        return\n",
    "        \n",
    "        \n",
    "    # The method pop which return the element poped out of the stack\n",
    "    def pop(self):\n",
    "\n",
    "        if self.head is None:\n",
    "            return -1\n",
    "        \n",
    "        q=self.head\n",
    "        self.head=self.head.next\n",
    "        x=q.data\n",
    "        q=None\n",
    "        return x\n",
    "    \n",
    "    def display(self):\n",
    "        t=self.head\n",
    "        while t:\n",
    "            print(t.data,end=' ')\n",
    "            t=t.next\n",
    "        print()"
   ]
  },
  {
   "cell_type": "code",
   "execution_count": 3,
   "metadata": {},
   "outputs": [
    {
     "name": "stdout",
     "output_type": "stream",
     "text": [
      "the poped element is:  -1\n",
      "\n",
      "4 \n",
      "5 4 \n",
      "the poped element is:  5\n",
      "4 \n",
      "\n"
     ]
    }
   ],
   "source": [
    "#output of code is either -1 is stack is empty or elements which are popped\n",
    "\n",
    "if __name__ == '__main__':\n",
    "    s = Stack()\n",
    "    q = 4                                  # no of opearations to be performed\n",
    "    \n",
    "    # list contains operations of two types\n",
    "    #        1,o    where 1 represents that element o is to be pushed into stack\n",
    "    #        2      where 2 represents pop operation is to be performed\n",
    "    \n",
    "    # l = [2 ,(1 ,4) ,(1 ,5) ,2]\n",
    "    \n",
    "    l = [2 ,1 ,4 ,1 ,5 ,2]\n",
    "    i = 0\n",
    "    \n",
    "    \n",
    "    while i < len(l):\n",
    "        if l[i] == 1:\n",
    "            s.push(l[i + 1])\n",
    "            i = i + 2\n",
    "        elif l[i] == 2:\n",
    "            print(\"the poped element is: \",s.pop())\n",
    "            i = i + 1\n",
    "        s.display()\n",
    "        \n",
    "    print()"
   ]
  },
  {
   "cell_type": "raw",
   "metadata": {},
   "source": [
    "-1 represents empty stack while pop"
   ]
  }
 ],
 "metadata": {
  "kernelspec": {
   "display_name": "Python 3",
   "language": "python",
   "name": "python3"
  },
  "language_info": {
   "codemirror_mode": {
    "name": "ipython",
    "version": 3
   },
   "file_extension": ".py",
   "mimetype": "text/x-python",
   "name": "python",
   "nbconvert_exporter": "python",
   "pygments_lexer": "ipython3",
   "version": "3.7.0"
  }
 },
 "nbformat": 4,
 "nbformat_minor": 2
}
